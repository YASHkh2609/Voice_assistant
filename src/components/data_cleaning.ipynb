{
 "cells": [
  {
   "cell_type": "code",
   "execution_count": 1,
   "metadata": {},
   "outputs": [
    {
     "data": {
      "text/plain": [
       "True"
      ]
     },
     "execution_count": 1,
     "metadata": {},
     "output_type": "execute_result"
    }
   ],
   "source": [
    "import numpy as np\n",
    "import os\n",
    "import pandas as pd\n",
    "from langchain.text_splitter import RecursiveCharacterTextSplitter\n",
    "from langchain_core.documents import Document\n",
    "from langchain_community.vectorstores import Chroma\n",
    "from langchain_community.embeddings import HuggingFaceInferenceAPIEmbeddings\n",
    "from dotenv import load_dotenv\n",
    "from langchain_chroma import Chroma\n",
    "from uuid import uuid4\n",
    "\n",
    "load_dotenv()"
   ]
  },
  {
   "cell_type": "code",
   "execution_count": 2,
   "metadata": {},
   "outputs": [],
   "source": [
    "csv_path = 'E:\\JK Voice Assistant\\dataset.csv'\n",
    "data = pd.read_csv(csv_path,lineterminator='\\n')"
   ]
  },
  {
   "cell_type": "code",
   "execution_count": 3,
   "metadata": {},
   "outputs": [
    {
     "data": {
      "text/html": [
       "<div>\n",
       "<style scoped>\n",
       "    .dataframe tbody tr th:only-of-type {\n",
       "        vertical-align: middle;\n",
       "    }\n",
       "\n",
       "    .dataframe tbody tr th {\n",
       "        vertical-align: top;\n",
       "    }\n",
       "\n",
       "    .dataframe thead th {\n",
       "        text-align: right;\n",
       "    }\n",
       "</style>\n",
       "<table border=\"1\" class=\"dataframe\">\n",
       "  <thead>\n",
       "    <tr style=\"text-align: right;\">\n",
       "      <th></th>\n",
       "      <th>category_1</th>\n",
       "      <th>category_2</th>\n",
       "      <th>category_3</th>\n",
       "      <th>title</th>\n",
       "      <th>product_rating</th>\n",
       "      <th>selling_price</th>\n",
       "      <th>mrp</th>\n",
       "      <th>seller_name</th>\n",
       "      <th>seller_rating</th>\n",
       "      <th>description</th>\n",
       "      <th>highlights</th>\n",
       "      <th>image_links\\r</th>\n",
       "    </tr>\n",
       "  </thead>\n",
       "  <tbody>\n",
       "    <tr>\n",
       "      <th>0</th>\n",
       "      <td>Sports, Books and More</td>\n",
       "      <td>Sports</td>\n",
       "      <td>Cricket</td>\n",
       "      <td>ITWOSERVICES CRICKET NET 100X10 CRICKET NET NY...</td>\n",
       "      <td>4.4</td>\n",
       "      <td>₹1,615</td>\n",
       "      <td>₹4,000</td>\n",
       "      <td>I2SERVICES</td>\n",
       "      <td>4.4</td>\n",
       "      <td>NaN</td>\n",
       "      <td>Cricket Practice Net NYLON HDPE Material W x H...</td>\n",
       "      <td>https://rukminim1.flixcart.com/image/612/612/x...</td>\n",
       "    </tr>\n",
       "    <tr>\n",
       "      <th>1</th>\n",
       "      <td>Sports, Books and More</td>\n",
       "      <td>Sports</td>\n",
       "      <td>Cricket</td>\n",
       "      <td>ITWOSERVICES CRICKET NET GROUND BOUNDARY NET 1...</td>\n",
       "      <td>4.4</td>\n",
       "      <td>₹152</td>\n",
       "      <td>₹600</td>\n",
       "      <td>I2SERVICES</td>\n",
       "      <td>4.4</td>\n",
       "      <td>10 X  10 GREEN CRICKET NET HDPE NYLON.</td>\n",
       "      <td>Cricket HDPE NYLON Material W x H x D: 3.048 x...</td>\n",
       "      <td>https://rukminim1.flixcart.com/image/612/612/x...</td>\n",
       "    </tr>\n",
       "    <tr>\n",
       "      <th>2</th>\n",
       "      <td>Sports, Books and More</td>\n",
       "      <td>Sports</td>\n",
       "      <td>Cricket</td>\n",
       "      <td>VICTORY Medium Weight ( Pack of 1 ) Rubber Cri...</td>\n",
       "      <td>3.7</td>\n",
       "      <td>₹59</td>\n",
       "      <td>₹199</td>\n",
       "      <td>VictoryOutlets</td>\n",
       "      <td>4.7</td>\n",
       "      <td>NaN</td>\n",
       "      <td>Cricket Rubber Ball Weight: 110 g</td>\n",
       "      <td>https://rukminim1.flixcart.com/image/612/612/x...</td>\n",
       "    </tr>\n",
       "    <tr>\n",
       "      <th>3</th>\n",
       "      <td>Sports, Books and More</td>\n",
       "      <td>Sports</td>\n",
       "      <td>Cricket</td>\n",
       "      <td>VICTORY Cricket Wind Ball (Pack of 1) - Made i...</td>\n",
       "      <td>3.8</td>\n",
       "      <td>₹75</td>\n",
       "      <td>₹299</td>\n",
       "      <td>VictoryOutlets</td>\n",
       "      <td>4.7</td>\n",
       "      <td>NaN</td>\n",
       "      <td>Cricket Synthetic Ball Weight: 110 g</td>\n",
       "      <td>https://rukminim1.flixcart.com/image/612/612/k...</td>\n",
       "    </tr>\n",
       "    <tr>\n",
       "      <th>4</th>\n",
       "      <td>Sports, Books and More</td>\n",
       "      <td>Sports</td>\n",
       "      <td>Cricket</td>\n",
       "      <td>CEAT Hitman Full Size Double Blade Poplar Cric...</td>\n",
       "      <td>3.4</td>\n",
       "      <td>₹329</td>\n",
       "      <td>₹1,399</td>\n",
       "      <td>IndiaFit</td>\n",
       "      <td>4.7</td>\n",
       "      <td>The Ceat Poplar Willow Cricket Bat has been de...</td>\n",
       "      <td>Age Group 15+ Yrs Blade Made of Poplar Willow ...</td>\n",
       "      <td>https://rukminim1.flixcart.com/image/612/612/j...</td>\n",
       "    </tr>\n",
       "  </tbody>\n",
       "</table>\n",
       "</div>"
      ],
      "text/plain": [
       "               category_1 category_2 category_3  \\\n",
       "0  Sports, Books and More     Sports   Cricket    \n",
       "1  Sports, Books and More     Sports   Cricket    \n",
       "2  Sports, Books and More     Sports   Cricket    \n",
       "3  Sports, Books and More     Sports   Cricket    \n",
       "4  Sports, Books and More     Sports   Cricket    \n",
       "\n",
       "                                               title  product_rating  \\\n",
       "0  ITWOSERVICES CRICKET NET 100X10 CRICKET NET NY...             4.4   \n",
       "1  ITWOSERVICES CRICKET NET GROUND BOUNDARY NET 1...             4.4   \n",
       "2  VICTORY Medium Weight ( Pack of 1 ) Rubber Cri...             3.7   \n",
       "3  VICTORY Cricket Wind Ball (Pack of 1) - Made i...             3.8   \n",
       "4  CEAT Hitman Full Size Double Blade Poplar Cric...             3.4   \n",
       "\n",
       "  selling_price     mrp     seller_name  seller_rating  \\\n",
       "0        ₹1,615  ₹4,000      I2SERVICES            4.4   \n",
       "1          ₹152    ₹600      I2SERVICES            4.4   \n",
       "2           ₹59    ₹199  VictoryOutlets            4.7   \n",
       "3           ₹75    ₹299  VictoryOutlets            4.7   \n",
       "4          ₹329  ₹1,399        IndiaFit            4.7   \n",
       "\n",
       "                                         description  \\\n",
       "0                                                NaN   \n",
       "1             10 X  10 GREEN CRICKET NET HDPE NYLON.   \n",
       "2                                                NaN   \n",
       "3                                                NaN   \n",
       "4  The Ceat Poplar Willow Cricket Bat has been de...   \n",
       "\n",
       "                                          highlights  \\\n",
       "0  Cricket Practice Net NYLON HDPE Material W x H...   \n",
       "1  Cricket HDPE NYLON Material W x H x D: 3.048 x...   \n",
       "2                  Cricket Rubber Ball Weight: 110 g   \n",
       "3               Cricket Synthetic Ball Weight: 110 g   \n",
       "4  Age Group 15+ Yrs Blade Made of Poplar Willow ...   \n",
       "\n",
       "                                       image_links\\r  \n",
       "0  https://rukminim1.flixcart.com/image/612/612/x...  \n",
       "1  https://rukminim1.flixcart.com/image/612/612/x...  \n",
       "2  https://rukminim1.flixcart.com/image/612/612/x...  \n",
       "3  https://rukminim1.flixcart.com/image/612/612/k...  \n",
       "4  https://rukminim1.flixcart.com/image/612/612/j...  "
      ]
     },
     "execution_count": 3,
     "metadata": {},
     "output_type": "execute_result"
    }
   ],
   "source": [
    "data.head()"
   ]
  },
  {
   "cell_type": "code",
   "execution_count": 4,
   "metadata": {},
   "outputs": [
    {
     "name": "stdout",
     "output_type": "stream",
     "text": [
      "<class 'pandas.core.frame.DataFrame'>\n",
      "RangeIndex: 12041 entries, 0 to 12040\n",
      "Data columns (total 12 columns):\n",
      " #   Column          Non-Null Count  Dtype  \n",
      "---  ------          --------------  -----  \n",
      " 0   category_1      12041 non-null  object \n",
      " 1   category_2      12041 non-null  object \n",
      " 2   category_3      12041 non-null  object \n",
      " 3   title           12023 non-null  object \n",
      " 4   product_rating  11961 non-null  float64\n",
      " 5   selling_price   12013 non-null  object \n",
      " 6   mrp             11666 non-null  object \n",
      " 7   seller_name     11825 non-null  object \n",
      " 8   seller_rating   11827 non-null  float64\n",
      " 9   description     5021 non-null   object \n",
      " 10  highlights      6560 non-null   object \n",
      "    12041 non-null  object \n",
      "dtypes: float64(2), object(10)\n",
      "memory usage: 1.1+ MB\n"
     ]
    }
   ],
   "source": [
    "data.info()\n"
   ]
  },
  {
   "cell_type": "code",
   "execution_count": 5,
   "metadata": {},
   "outputs": [
    {
     "data": {
      "text/plain": [
       "category_1           0\n",
       "category_2           0\n",
       "category_3           0\n",
       "title               18\n",
       "product_rating      80\n",
       "selling_price       28\n",
       "mrp                375\n",
       "seller_name        216\n",
       "seller_rating      214\n",
       "description       7020\n",
       "highlights        5481\n",
       "image_links\\r        0\n",
       "dtype: int64"
      ]
     },
     "execution_count": 5,
     "metadata": {},
     "output_type": "execute_result"
    }
   ],
   "source": [
    "data.isna().sum()"
   ]
  },
  {
   "cell_type": "code",
   "execution_count": 6,
   "metadata": {},
   "outputs": [],
   "source": [
    "data.drop(columns = ['image_links\\r'], inplace=True)"
   ]
  },
  {
   "cell_type": "code",
   "execution_count": 7,
   "metadata": {},
   "outputs": [],
   "source": [
    "data = data.dropna(subset = ['mrp'], how = 'all')"
   ]
  },
  {
   "cell_type": "code",
   "execution_count": 8,
   "metadata": {},
   "outputs": [
    {
     "data": {
      "text/plain": [
       "category_1           0\n",
       "category_2           0\n",
       "category_3           0\n",
       "title                0\n",
       "product_rating      60\n",
       "selling_price        0\n",
       "mrp                  0\n",
       "seller_name        183\n",
       "seller_rating      181\n",
       "description       6782\n",
       "highlights        5301\n",
       "dtype: int64"
      ]
     },
     "execution_count": 8,
     "metadata": {},
     "output_type": "execute_result"
    }
   ],
   "source": [
    "data.isna().sum()"
   ]
  },
  {
   "cell_type": "code",
   "execution_count": 9,
   "metadata": {},
   "outputs": [
    {
     "name": "stderr",
     "output_type": "stream",
     "text": [
      "C:\\Users\\HP\\AppData\\Local\\Temp\\ipykernel_36964\\1760232250.py:1: FutureWarning: A value is trying to be set on a copy of a DataFrame or Series through chained assignment using an inplace method.\n",
      "The behavior will change in pandas 3.0. This inplace method will never work because the intermediate object on which we are setting values always behaves as a copy.\n",
      "\n",
      "For example, when doing 'df[col].method(value, inplace=True)', try using 'df.method({col: value}, inplace=True)' or df[col] = df[col].method(value) instead, to perform the operation inplace on the original object.\n",
      "\n",
      "\n",
      "  data['seller_rating'].fillna(value = 0, inplace=True)\n",
      "C:\\Users\\HP\\AppData\\Local\\Temp\\ipykernel_36964\\1760232250.py:2: FutureWarning: A value is trying to be set on a copy of a DataFrame or Series through chained assignment using an inplace method.\n",
      "The behavior will change in pandas 3.0. This inplace method will never work because the intermediate object on which we are setting values always behaves as a copy.\n",
      "\n",
      "For example, when doing 'df[col].method(value, inplace=True)', try using 'df.method({col: value}, inplace=True)' or df[col] = df[col].method(value) instead, to perform the operation inplace on the original object.\n",
      "\n",
      "\n",
      "  data['product_rating'].fillna(value = 0, inplace=True)\n",
      "C:\\Users\\HP\\AppData\\Local\\Temp\\ipykernel_36964\\1760232250.py:3: FutureWarning: A value is trying to be set on a copy of a DataFrame or Series through chained assignment using an inplace method.\n",
      "The behavior will change in pandas 3.0. This inplace method will never work because the intermediate object on which we are setting values always behaves as a copy.\n",
      "\n",
      "For example, when doing 'df[col].method(value, inplace=True)', try using 'df.method({col: value}, inplace=True)' or df[col] = df[col].method(value) instead, to perform the operation inplace on the original object.\n",
      "\n",
      "\n",
      "  data['seller_name'].fillna(value=\"\", inplace=True)\n",
      "C:\\Users\\HP\\AppData\\Local\\Temp\\ipykernel_36964\\1760232250.py:4: FutureWarning: A value is trying to be set on a copy of a DataFrame or Series through chained assignment using an inplace method.\n",
      "The behavior will change in pandas 3.0. This inplace method will never work because the intermediate object on which we are setting values always behaves as a copy.\n",
      "\n",
      "For example, when doing 'df[col].method(value, inplace=True)', try using 'df.method({col: value}, inplace=True)' or df[col] = df[col].method(value) instead, to perform the operation inplace on the original object.\n",
      "\n",
      "\n",
      "  data['description'].fillna(value=\"\", inplace=True)\n",
      "C:\\Users\\HP\\AppData\\Local\\Temp\\ipykernel_36964\\1760232250.py:5: FutureWarning: A value is trying to be set on a copy of a DataFrame or Series through chained assignment using an inplace method.\n",
      "The behavior will change in pandas 3.0. This inplace method will never work because the intermediate object on which we are setting values always behaves as a copy.\n",
      "\n",
      "For example, when doing 'df[col].method(value, inplace=True)', try using 'df.method({col: value}, inplace=True)' or df[col] = df[col].method(value) instead, to perform the operation inplace on the original object.\n",
      "\n",
      "\n",
      "  data['highlights'].fillna(value=\"\", inplace=True)\n"
     ]
    }
   ],
   "source": [
    "data['seller_rating'].fillna(value = 0, inplace=True)\n",
    "data['product_rating'].fillna(value = 0, inplace=True)\n",
    "data['seller_name'].fillna(value=\"\", inplace=True)\n",
    "data['description'].fillna(value=\"\", inplace=True)\n",
    "data['highlights'].fillna(value=\"\", inplace=True)"
   ]
  },
  {
   "cell_type": "code",
   "execution_count": 10,
   "metadata": {},
   "outputs": [],
   "source": [
    "documents = []\n",
    "\n",
    "for index, row in data.iterrows():\n",
    "    description = Document(\n",
    "        page_content = f\"The category of this product is {row['category_1']} and subcategories are {row['category_2']} and {row['category_3']}. The title of the product is '{row['title']}' with a product rating of {row['product_rating']} and a selling price of {row['selling_price']} and MRP {row['mrp']}). The product is sold by {row['seller_name']} with a seller rating of {row['seller_rating']}. Product description: {row['description']}. Highlights include: {row['highlights']}.\",\n",
    "        metadata={\"source\":f\"{row['category_1']}\"},\n",
    "    )\n",
    "    documents.append(description)"
   ]
  },
  {
   "cell_type": "code",
   "execution_count": 11,
   "metadata": {},
   "outputs": [
    {
     "data": {
      "text/plain": [
       "Document(page_content=\"The category of this product is Sports, Books and More and subcategories are Sports and Cricket . The title of the product is 'ITWOSERVICES CRICKET NET 100X10 CRICKET NET NYLON HDPE Cricket Net\\xa0\\xa0(Green)' with a product rating of 4.4 and a selling price of ₹1,615 and MRP ₹4,000). The product is sold by I2SERVICES with a seller rating of 4.4. Product description: . Highlights include: Cricket Practice Net NYLON HDPE Material W x H x D: 10 x 10.\", metadata={'source': 'Sports, Books and More'})"
      ]
     },
     "execution_count": 11,
     "metadata": {},
     "output_type": "execute_result"
    }
   ],
   "source": [
    "# print(len(documents))\n",
    "documents[0]"
   ]
  },
  {
   "cell_type": "code",
   "execution_count": 12,
   "metadata": {},
   "outputs": [
    {
     "data": {
      "text/plain": [
       "['81ae7a1b-a78c-4aa0-a50f-a695753661bc',\n",
       " 'a0912838-f067-4edd-817d-27a860e7624a',\n",
       " '0d732516-b895-4216-a9f4-7d6c82d8315d',\n",
       " 'abfd0b4b-d7a7-447a-90f5-d7a80c631647',\n",
       " 'fa063d77-53b3-4f1d-a6db-4619659d8101']"
      ]
     },
     "execution_count": 12,
     "metadata": {},
     "output_type": "execute_result"
    }
   ],
   "source": [
    "temp_docs = documents[0:5]\n",
    "embeddings = HuggingFaceInferenceAPIEmbeddings(\n",
    "    api_key=os.getenv(\"inference_api_key\"), model_name=\"sentence-transformers/all-MiniLM-l6-v2\"\n",
    ")\n",
    "\n",
    "vector_store = Chroma(\n",
    "    collection_name=\"product_collection\",\n",
    "    embedding_function=embeddings,\n",
    "    persist_directory=\"E:\\JK Voice Assistant\\chromadb_langchain\",  # Where to save data locally, remove if not neccesary,\n",
    "    collection_metadata={\"hnsw:space\": \"cosine\"}\n",
    ")\n",
    "\n",
    "uuids = [str(uuid4()) for _ in range(len(temp_docs))]\n",
    "\n",
    "vector_store.add_documents(documents=temp_docs)\n"
   ]
  },
  {
   "cell_type": "code",
   "execution_count": 16,
   "metadata": {},
   "outputs": [
    {
     "data": {
      "text/plain": [
       "{'ids': ['0d732516-b895-4216-a9f4-7d6c82d8315d',\n",
       "  '81ae7a1b-a78c-4aa0-a50f-a695753661bc',\n",
       "  '90c85678-a806-458d-badd-6f4d7b2e439f',\n",
       "  '9e783494-37d0-4663-acfe-6db53ed27d11',\n",
       "  'a0912838-f067-4edd-817d-27a860e7624a',\n",
       "  'abfd0b4b-d7a7-447a-90f5-d7a80c631647',\n",
       "  'b57ea949-5af4-4513-9912-ec6e45d65d2b',\n",
       "  'c84723ac-f9f8-4ffc-a23a-185e76d049a2',\n",
       "  'e50acc0b-2d3c-415f-bad0-cb6a0b692b5d',\n",
       "  'fa063d77-53b3-4f1d-a6db-4619659d8101'],\n",
       " 'embeddings': None,\n",
       " 'metadatas': [{'source': 'Sports, Books and More'},\n",
       "  {'source': 'Sports, Books and More'},\n",
       "  {'source': 'Sports, Books and More'},\n",
       "  {'source': 'Sports, Books and More'},\n",
       "  {'source': 'Sports, Books and More'},\n",
       "  {'source': 'Sports, Books and More'},\n",
       "  {'source': 'Sports, Books and More'},\n",
       "  {'source': 'Sports, Books and More'},\n",
       "  {'source': 'Sports, Books and More'},\n",
       "  {'source': 'Sports, Books and More'}],\n",
       " 'documents': [\"The category of this product is Sports, Books and More and subcategories are Sports and Cricket . The title of the product is 'VICTORY Medium Weight ( Pack of 1 ) Rubber Cricket Tennis Ball Cricket Rubber Ball\\xa0\\xa0(Pack of 1)' with a product rating of 3.7 and a selling price of ₹59 and MRP ₹199). The product is sold by VictoryOutlets with a seller rating of 4.7. Product description: . Highlights include: Cricket Rubber Ball Weight: 110 g.\",\n",
       "  \"The category of this product is Sports, Books and More and subcategories are Sports and Cricket . The title of the product is 'ITWOSERVICES CRICKET NET 100X10 CRICKET NET NYLON HDPE Cricket Net\\xa0\\xa0(Green)' with a product rating of 4.4 and a selling price of ₹1,615 and MRP ₹4,000). The product is sold by I2SERVICES with a seller rating of 4.4. Product description: . Highlights include: Cricket Practice Net NYLON HDPE Material W x H x D: 10 x 10.\",\n",
       "  \"The category of this product is Sports, Books and More and subcategories are Sports and Cricket . The title of the product is 'ITWOSERVICES CRICKET NET GROUND BOUNDARY NET 10X10 FEET Cricket Net\\xa0\\xa0(Green)' with a product rating of 4.4 and a selling price of ₹152 and MRP ₹600). The product is sold by I2SERVICES with a seller rating of 4.4. Product description: 10 X  10 GREEN CRICKET NET HDPE NYLON.. Highlights include: Cricket HDPE NYLON Material W x H x D: 3.048 x 3.048.\",\n",
       "  \"The category of this product is Sports, Books and More and subcategories are Sports and Cricket . The title of the product is 'ITWOSERVICES CRICKET NET 100X10 CRICKET NET NYLON HDPE Cricket Net\\xa0\\xa0(Green)' with a product rating of 4.4 and a selling price of ₹1,615 and MRP ₹4,000). The product is sold by I2SERVICES with a seller rating of 4.4. Product description: . Highlights include: Cricket Practice Net NYLON HDPE Material W x H x D: 10 x 10.\",\n",
       "  \"The category of this product is Sports, Books and More and subcategories are Sports and Cricket . The title of the product is 'ITWOSERVICES CRICKET NET GROUND BOUNDARY NET 10X10 FEET Cricket Net\\xa0\\xa0(Green)' with a product rating of 4.4 and a selling price of ₹152 and MRP ₹600). The product is sold by I2SERVICES with a seller rating of 4.4. Product description: 10 X  10 GREEN CRICKET NET HDPE NYLON.. Highlights include: Cricket HDPE NYLON Material W x H x D: 3.048 x 3.048.\",\n",
       "  \"The category of this product is Sports, Books and More and subcategories are Sports and Cricket . The title of the product is 'VICTORY Cricket Wind Ball (Pack of 1) - Made in India Smooth Cricket Cricket Synthetic Ball\\xa0\\xa0(Pack of 1)' with a product rating of 3.8 and a selling price of ₹75 and MRP ₹299). The product is sold by VictoryOutlets with a seller rating of 4.7. Product description: . Highlights include: Cricket Synthetic Ball Weight: 110 g.\",\n",
       "  \"The category of this product is Sports, Books and More and subcategories are Sports and Cricket . The title of the product is 'CEAT Hitman Full Size Double Blade Poplar Cricket Bat - Advance Play Poplar Willow Cricket  Bat\\xa0\\xa0(1.2 kg)' with a product rating of 3.4 and a selling price of ₹329 and MRP ₹1,399). The product is sold by IndiaFit with a seller rating of 4.7. Product description: The Ceat Poplar Willow Cricket Bat has been designed to give you power and speed. This cricket bat has been built with a Poplar Willow blade that has thick edges but delivers amazing pick up. With the Sarawak cane handle you can control the bat skillfully and with precision. This top-quality cricket bat is ideal for senior players with intermediate skills.. Highlights include: Age Group 15+ Yrs Blade Made of Poplar Willow Advanced, Training Playing Level Bat Grade: Grade 2 Sport Type: Cricket Weight Range 1.2 kg.\",\n",
       "  \"The category of this product is Sports, Books and More and subcategories are Sports and Cricket . The title of the product is 'VICTORY Medium Weight ( Pack of 1 ) Rubber Cricket Tennis Ball Cricket Rubber Ball\\xa0\\xa0(Pack of 1)' with a product rating of 3.7 and a selling price of ₹59 and MRP ₹199). The product is sold by VictoryOutlets with a seller rating of 4.7. Product description: . Highlights include: Cricket Rubber Ball Weight: 110 g.\",\n",
       "  \"The category of this product is Sports, Books and More and subcategories are Sports and Cricket . The title of the product is 'VICTORY Cricket Wind Ball (Pack of 1) - Made in India Smooth Cricket Cricket Synthetic Ball\\xa0\\xa0(Pack of 1)' with a product rating of 3.8 and a selling price of ₹75 and MRP ₹299). The product is sold by VictoryOutlets with a seller rating of 4.7. Product description: . Highlights include: Cricket Synthetic Ball Weight: 110 g.\",\n",
       "  \"The category of this product is Sports, Books and More and subcategories are Sports and Cricket . The title of the product is 'CEAT Hitman Full Size Double Blade Poplar Cricket Bat - Advance Play Poplar Willow Cricket  Bat\\xa0\\xa0(1.2 kg)' with a product rating of 3.4 and a selling price of ₹329 and MRP ₹1,399). The product is sold by IndiaFit with a seller rating of 4.7. Product description: The Ceat Poplar Willow Cricket Bat has been designed to give you power and speed. This cricket bat has been built with a Poplar Willow blade that has thick edges but delivers amazing pick up. With the Sarawak cane handle you can control the bat skillfully and with precision. This top-quality cricket bat is ideal for senior players with intermediate skills.. Highlights include: Age Group 15+ Yrs Blade Made of Poplar Willow Advanced, Training Playing Level Bat Grade: Grade 2 Sport Type: Cricket Weight Range 1.2 kg.\"],\n",
       " 'uris': None,\n",
       " 'data': None,\n",
       " 'included': ['metadatas', 'documents']}"
      ]
     },
     "execution_count": 16,
     "metadata": {},
     "output_type": "execute_result"
    }
   ],
   "source": [
    "vector_store.get()"
   ]
  },
  {
   "cell_type": "code",
   "execution_count": 14,
   "metadata": {},
   "outputs": [],
   "source": [
    "docs = []\n",
    "ids=[]\n",
    "for index, row in data.iterrows():\n",
    "    text = f\"The category of this product is {row['category_1']} and subcategories are {row['category_2']} and {row['category_3']}. The title of the product is '{row['title']}' with a product rating of {row['product_rating']} and a selling price of {row['selling_price']} and MRP {row['mrp']}). The product is sold by {row['seller_name']} with a seller rating of {row['seller_rating']}. Product description: {row['description']}. Highlights include: {row['highlights']}.\"\n",
    "    docs.append(text)\n",
    "    ids.append(str(index+1))"
   ]
  },
  {
   "cell_type": "code",
   "execution_count": 13,
   "metadata": {},
   "outputs": [],
   "source": [
    "# results = vector_store.similarity_search_by_vector(\n",
    "#     \"I want cricket bat and net\",\n",
    "#     k=2,\n",
    "# )\n",
    "results = vector_store.similarity_search_by_vector(\n",
    "    embedding=embeddings.embed_query(\"I want cricket bat and net\"), k=2\n",
    ")"
   ]
  },
  {
   "cell_type": "code",
   "execution_count": 14,
   "metadata": {},
   "outputs": [
    {
     "data": {
      "text/plain": [
       "[Document(page_content=\"The category of this product is Sports, Books and More and subcategories are Sports and Cricket . The title of the product is 'ITWOSERVICES CRICKET NET GROUND BOUNDARY NET 10X10 FEET Cricket Net\\xa0\\xa0(Green)' with a product rating of 4.4 and a selling price of ₹152 and MRP ₹600). The product is sold by I2SERVICES with a seller rating of 4.4. Product description: 10 X  10 GREEN CRICKET NET HDPE NYLON.. Highlights include: Cricket HDPE NYLON Material W x H x D: 3.048 x 3.048.\", metadata={'source': 'Sports, Books and More'}),\n",
       " Document(page_content=\"The category of this product is Sports, Books and More and subcategories are Sports and Cricket . The title of the product is 'ITWOSERVICES CRICKET NET 100X10 CRICKET NET NYLON HDPE Cricket Net\\xa0\\xa0(Green)' with a product rating of 4.4 and a selling price of ₹1,615 and MRP ₹4,000). The product is sold by I2SERVICES with a seller rating of 4.4. Product description: . Highlights include: Cricket Practice Net NYLON HDPE Material W x H x D: 10 x 10.\", metadata={'source': 'Sports, Books and More'})]"
      ]
     },
     "execution_count": 14,
     "metadata": {},
     "output_type": "execute_result"
    }
   ],
   "source": [
    "results"
   ]
  },
  {
   "cell_type": "code",
   "execution_count": 28,
   "metadata": {},
   "outputs": [
    {
     "data": {
      "text/html": [
       "<div>\n",
       "<style scoped>\n",
       "    .dataframe tbody tr th:only-of-type {\n",
       "        vertical-align: middle;\n",
       "    }\n",
       "\n",
       "    .dataframe tbody tr th {\n",
       "        vertical-align: top;\n",
       "    }\n",
       "\n",
       "    .dataframe thead th {\n",
       "        text-align: right;\n",
       "    }\n",
       "</style>\n",
       "<table border=\"1\" class=\"dataframe\">\n",
       "  <thead>\n",
       "    <tr style=\"text-align: right;\">\n",
       "      <th></th>\n",
       "      <th>category_1</th>\n",
       "      <th>category_2</th>\n",
       "      <th>category_3</th>\n",
       "      <th>title</th>\n",
       "      <th>product_rating</th>\n",
       "      <th>selling_price</th>\n",
       "      <th>mrp</th>\n",
       "      <th>seller_name</th>\n",
       "      <th>seller_rating</th>\n",
       "      <th>description</th>\n",
       "      <th>highlights</th>\n",
       "    </tr>\n",
       "  </thead>\n",
       "  <tbody>\n",
       "    <tr>\n",
       "      <th>0</th>\n",
       "      <td>Sports, Books and More</td>\n",
       "      <td>Sports</td>\n",
       "      <td>Cricket</td>\n",
       "      <td>ITWOSERVICES CRICKET NET 100X10 CRICKET NET NY...</td>\n",
       "      <td>4.4</td>\n",
       "      <td>₹1,615</td>\n",
       "      <td>₹4,000</td>\n",
       "      <td>I2SERVICES</td>\n",
       "      <td>4.4</td>\n",
       "      <td></td>\n",
       "      <td>Cricket Practice Net NYLON HDPE Material W x H...</td>\n",
       "    </tr>\n",
       "    <tr>\n",
       "      <th>1</th>\n",
       "      <td>Sports, Books and More</td>\n",
       "      <td>Sports</td>\n",
       "      <td>Cricket</td>\n",
       "      <td>ITWOSERVICES CRICKET NET GROUND BOUNDARY NET 1...</td>\n",
       "      <td>4.4</td>\n",
       "      <td>₹152</td>\n",
       "      <td>₹600</td>\n",
       "      <td>I2SERVICES</td>\n",
       "      <td>4.4</td>\n",
       "      <td>10 X  10 GREEN CRICKET NET HDPE NYLON.</td>\n",
       "      <td>Cricket HDPE NYLON Material W x H x D: 3.048 x...</td>\n",
       "    </tr>\n",
       "    <tr>\n",
       "      <th>2</th>\n",
       "      <td>Sports, Books and More</td>\n",
       "      <td>Sports</td>\n",
       "      <td>Cricket</td>\n",
       "      <td>VICTORY Medium Weight ( Pack of 1 ) Rubber Cri...</td>\n",
       "      <td>3.7</td>\n",
       "      <td>₹59</td>\n",
       "      <td>₹199</td>\n",
       "      <td>VictoryOutlets</td>\n",
       "      <td>4.7</td>\n",
       "      <td></td>\n",
       "      <td>Cricket Rubber Ball Weight: 110 g</td>\n",
       "    </tr>\n",
       "    <tr>\n",
       "      <th>3</th>\n",
       "      <td>Sports, Books and More</td>\n",
       "      <td>Sports</td>\n",
       "      <td>Cricket</td>\n",
       "      <td>VICTORY Cricket Wind Ball (Pack of 1) - Made i...</td>\n",
       "      <td>3.8</td>\n",
       "      <td>₹75</td>\n",
       "      <td>₹299</td>\n",
       "      <td>VictoryOutlets</td>\n",
       "      <td>4.7</td>\n",
       "      <td></td>\n",
       "      <td>Cricket Synthetic Ball Weight: 110 g</td>\n",
       "    </tr>\n",
       "    <tr>\n",
       "      <th>4</th>\n",
       "      <td>Sports, Books and More</td>\n",
       "      <td>Sports</td>\n",
       "      <td>Cricket</td>\n",
       "      <td>CEAT Hitman Full Size Double Blade Poplar Cric...</td>\n",
       "      <td>3.4</td>\n",
       "      <td>₹329</td>\n",
       "      <td>₹1,399</td>\n",
       "      <td>IndiaFit</td>\n",
       "      <td>4.7</td>\n",
       "      <td>The Ceat Poplar Willow Cricket Bat has been de...</td>\n",
       "      <td>Age Group 15+ Yrs Blade Made of Poplar Willow ...</td>\n",
       "    </tr>\n",
       "  </tbody>\n",
       "</table>\n",
       "</div>"
      ],
      "text/plain": [
       "               category_1 category_2 category_3  \\\n",
       "0  Sports, Books and More     Sports   Cricket    \n",
       "1  Sports, Books and More     Sports   Cricket    \n",
       "2  Sports, Books and More     Sports   Cricket    \n",
       "3  Sports, Books and More     Sports   Cricket    \n",
       "4  Sports, Books and More     Sports   Cricket    \n",
       "\n",
       "                                               title  product_rating  \\\n",
       "0  ITWOSERVICES CRICKET NET 100X10 CRICKET NET NY...             4.4   \n",
       "1  ITWOSERVICES CRICKET NET GROUND BOUNDARY NET 1...             4.4   \n",
       "2  VICTORY Medium Weight ( Pack of 1 ) Rubber Cri...             3.7   \n",
       "3  VICTORY Cricket Wind Ball (Pack of 1) - Made i...             3.8   \n",
       "4  CEAT Hitman Full Size Double Blade Poplar Cric...             3.4   \n",
       "\n",
       "  selling_price     mrp     seller_name  seller_rating  \\\n",
       "0        ₹1,615  ₹4,000      I2SERVICES            4.4   \n",
       "1          ₹152    ₹600      I2SERVICES            4.4   \n",
       "2           ₹59    ₹199  VictoryOutlets            4.7   \n",
       "3           ₹75    ₹299  VictoryOutlets            4.7   \n",
       "4          ₹329  ₹1,399        IndiaFit            4.7   \n",
       "\n",
       "                                         description  \\\n",
       "0                                                      \n",
       "1             10 X  10 GREEN CRICKET NET HDPE NYLON.   \n",
       "2                                                      \n",
       "3                                                      \n",
       "4  The Ceat Poplar Willow Cricket Bat has been de...   \n",
       "\n",
       "                                          highlights  \n",
       "0  Cricket Practice Net NYLON HDPE Material W x H...  \n",
       "1  Cricket HDPE NYLON Material W x H x D: 3.048 x...  \n",
       "2                  Cricket Rubber Ball Weight: 110 g  \n",
       "3               Cricket Synthetic Ball Weight: 110 g  \n",
       "4  Age Group 15+ Yrs Blade Made of Poplar Willow ...  "
      ]
     },
     "execution_count": 28,
     "metadata": {},
     "output_type": "execute_result"
    }
   ],
   "source": [
    "data.head()"
   ]
  },
  {
   "cell_type": "code",
   "execution_count": 27,
   "metadata": {},
   "outputs": [],
   "source": [
    "embeddings = HuggingFaceInferenceAPIEmbeddings(\n",
    "            api_key=os.getenv(\"inference_api_key\"), model_name=\"sentence-transformers/all-MiniLM-l6-v2\"\n",
    "        )\n",
    "\n",
    "db = Chroma(persist_directory=\"E:\\JK Voice Assistant\\chromadb_langchain\", embedding_function=embeddings)"
   ]
  },
  {
   "cell_type": "code",
   "execution_count": 28,
   "metadata": {},
   "outputs": [
    {
     "data": {
      "text/plain": [
       "{'ids': [],\n",
       " 'embeddings': None,\n",
       " 'metadatas': [],\n",
       " 'documents': [],\n",
       " 'uris': None,\n",
       " 'data': None,\n",
       " 'included': ['metadatas', 'documents']}"
      ]
     },
     "execution_count": 28,
     "metadata": {},
     "output_type": "execute_result"
    }
   ],
   "source": [
    "db.get()"
   ]
  },
  {
   "cell_type": "code",
   "execution_count": 29,
   "metadata": {},
   "outputs": [],
   "source": [
    "embeddings = HuggingFaceInferenceAPIEmbeddings(\n",
    "    api_key=os.getenv(\"inference_api_key\"), model_name=\"sentence-transformers/all-MiniLM-l6-v2\"\n",
    ")\n",
    "persist_directory=\"E:\\JK Voice Assistant\\chromadb_langchain\"\n",
    "vectordb = Chroma(persist_directory=persist_directory, embedding_function=embeddings)\n",
    "retriever = vectordb.as_retriever()\n"
   ]
  },
  {
   "cell_type": "code",
   "execution_count": 37,
   "metadata": {},
   "outputs": [
    {
     "name": "stdout",
     "output_type": "stream",
     "text": [
      "None\n"
     ]
    }
   ],
   "source": [
    "print(retriever.name)"
   ]
  },
  {
   "cell_type": "code",
   "execution_count": 18,
   "metadata": {},
   "outputs": [
    {
     "name": "stdout",
     "output_type": "stream",
     "text": [
      "* [SIM=1.860994] The category of this product is Sports, Books and More and subcategories are Sports and Cricket . The title of the product is 'CEAT Hitman Full Size Double Blade Poplar Cricket Bat - Advance Play Poplar Willow Cricket  Bat  (1.2 kg)' with a product rating of 3.4 and a selling price of ₹329 and MRP ₹1,399). The product is sold by IndiaFit with a seller rating of 4.7. Product description: The Ceat Poplar Willow Cricket Bat has been designed to give you power and speed. This cricket bat has been built with a Poplar Willow blade that has thick edges but delivers amazing pick up. With the Sarawak cane handle you can control the bat skillfully and with precision. This top-quality cricket bat is ideal for senior players with intermediate skills.. Highlights include: Age Group 15+ Yrs Blade Made of Poplar Willow Advanced, Training Playing Level Bat Grade: Grade 2 Sport Type: Cricket Weight Range 1.2 kg. [{'source': 'Sports, Books and More'}]\n",
      "* [SIM=1.860994] The category of this product is Sports, Books and More and subcategories are Sports and Cricket . The title of the product is 'CEAT Hitman Full Size Double Blade Poplar Cricket Bat - Advance Play Poplar Willow Cricket  Bat  (1.2 kg)' with a product rating of 3.4 and a selling price of ₹329 and MRP ₹1,399). The product is sold by IndiaFit with a seller rating of 4.7. Product description: The Ceat Poplar Willow Cricket Bat has been designed to give you power and speed. This cricket bat has been built with a Poplar Willow blade that has thick edges but delivers amazing pick up. With the Sarawak cane handle you can control the bat skillfully and with precision. This top-quality cricket bat is ideal for senior players with intermediate skills.. Highlights include: Age Group 15+ Yrs Blade Made of Poplar Willow Advanced, Training Playing Level Bat Grade: Grade 2 Sport Type: Cricket Weight Range 1.2 kg. [{'source': 'Sports, Books and More'}]\n"
     ]
    }
   ],
   "source": [
    "results = vector_store.similarity_search_with_score(\n",
    "    \"Tell me about a cat\", k=2\n",
    ")\n",
    "for res, score in results:\n",
    "    print(f\"* [SIM={score:3f}] {res.page_content} [{res.metadata}]\")"
   ]
  },
  {
   "cell_type": "code",
   "execution_count": null,
   "metadata": {},
   "outputs": [],
   "source": []
  }
 ],
 "metadata": {
  "kernelspec": {
   "display_name": "voice_assistant",
   "language": "python",
   "name": "python3"
  },
  "language_info": {
   "codemirror_mode": {
    "name": "ipython",
    "version": 3
   },
   "file_extension": ".py",
   "mimetype": "text/x-python",
   "name": "python",
   "nbconvert_exporter": "python",
   "pygments_lexer": "ipython3",
   "version": "3.11.7"
  }
 },
 "nbformat": 4,
 "nbformat_minor": 2
}
